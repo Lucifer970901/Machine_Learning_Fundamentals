{
 "cells": [
  {
   "cell_type": "markdown",
   "id": "43595216",
   "metadata": {},
   "source": [
    "**Basics of Python**:\n",
    "\n",
    "if you want to print anything, you use the following statement."
   ]
  },
  {
   "cell_type": "code",
   "execution_count": 1,
   "id": "8995c9ac",
   "metadata": {},
   "outputs": [
    {
     "name": "stdout",
     "output_type": "stream",
     "text": [
      "Hello World!!\n"
     ]
    }
   ],
   "source": [
    "print('Hello World!!')"
   ]
  },
  {
   "cell_type": "markdown",
   "id": "f62957ee",
   "metadata": {},
   "source": [
    "**Variables in python**:\n",
    "\n",
    "these are used to define symbolic names that are used to store values in python\n",
    "* Unlike Java and many other languages, Python variables do not require explicit declaration of type.\n",
    "* The type of the variable is inferred based on the value assigned.\n",
    "\n",
    "To use variables effectively, we must follow Python’s naming rules:\n",
    "\n",
    "* Variable names can only contain letters, digits and underscores (_).\n",
    "* A variable name cannot start with a digit.\n",
    "* Variable names are case-sensitive (myVar and myvar are different).\n",
    "* Avoid using Python keywords (e.g., if, else, for) as variable names.\n",
    "\n"
   ]
  },
  {
   "cell_type": "code",
   "execution_count": 2,
   "id": "bde026bd",
   "metadata": {},
   "outputs": [
    {
     "name": "stdout",
     "output_type": "stream",
     "text": [
      "100 100 100\n"
     ]
    }
   ],
   "source": [
    "#in python variables can have multiple assignments.\n",
    "a = b = c = 100\n",
    "print(a, b, c)"
   ]
  },
  {
   "cell_type": "markdown",
   "id": "f520dc35",
   "metadata": {},
   "source": [
    "**Datatypes in python**:\n",
    "\n",
    "Data types in Python are a way to classify data items. They represent the kind of value, which determines what operations can be performed on that data. Since everything is an object in Python programming, Python data types are classes and variables are instances (objects) of these classes.\n",
    "\n",
    "The following are standard or built-in data types in Python:\n",
    "\n",
    "* Numeric: int, float, complex\n",
    "* Sequence Type: string, list, tuple\n",
    "* Mapping Type: dict\n",
    "* Boolean: bool\n",
    "* Set Type: set, frozenset\n",
    "* Binary Types: bytes, bytearray, memoryview"
   ]
  },
  {
   "cell_type": "code",
   "execution_count": 2,
   "id": "62764fd5",
   "metadata": {},
   "outputs": [
    {
     "data": {
      "text/plain": [
       "int"
      ]
     },
     "execution_count": 2,
     "metadata": {},
     "output_type": "execute_result"
    }
   ],
   "source": [
    "x = 5\n",
    "type(x) "
   ]
  },
  {
   "cell_type": "code",
   "execution_count": 3,
   "id": "6e72637c",
   "metadata": {},
   "outputs": [
    {
     "name": "stdout",
     "output_type": "stream",
     "text": [
      "<class 'float'> 10.0\n",
      "<class 'int'> 2\n",
      "<class 'complex'> (1+0j)\n"
     ]
    }
   ],
   "source": [
    "x= 10\n",
    "a = float(x)\n",
    "y = 2.312\n",
    "b = int(y)\n",
    "z = 1\n",
    "c = complex(z)\n",
    "print(type(a),a)\n",
    "print(type(b),b)\n",
    "print(type(c),c)"
   ]
  },
  {
   "cell_type": "markdown",
   "id": "f58fdc70",
   "metadata": {},
   "source": [
    "This is called **Typecasting** where you can convert the value from one datatype to another. however you cannot convert string to int or float or viceversa. you might get value error as string cannot be represented as number."
   ]
  },
  {
   "cell_type": "markdown",
   "id": "566b410b",
   "metadata": {},
   "source": [
    "Basic Casting Functions\n",
    "* int() - Converts compatible values to an integer.\n",
    "* float() - Transforms values into floating-point numbers.\n",
    "* str() - Converts any data type into a string."
   ]
  },
  {
   "cell_type": "markdown",
   "id": "8f17e3a1",
   "metadata": {},
   "source": [
    "**Set Data Type**\n",
    "\n",
    "In Python Data Types, Set is an unordered collection of data types that is iterable, mutable, and has no duplicate elements. The order of elements in a set is undefined though it may consist of various elements.\n",
    "\n",
    "**Create a Set in Python**\n",
    "Sets can be created by using the built-in set() function with an iterable object or a sequence by placing the sequence inside curly braces, separated by a ‘comma’. The type of elements in a set need not be the same, various mixed-up data type values can also be passed to the set."
   ]
  },
  {
   "cell_type": "code",
   "execution_count": 3,
   "id": "807c1c13",
   "metadata": {},
   "outputs": [
    {
     "name": "stdout",
     "output_type": "stream",
     "text": [
      "Set with the use of String:  {'k', 'e', 'r', 's', 'o', 'G', 'F'}\n",
      "Set with the use of List:  {'For', 'Geeks'}\n"
     ]
    }
   ],
   "source": [
    "# initializing empty set\n",
    "s1 = set()\n",
    "\n",
    "s1 = set(\"GeeksForGeeks\")\n",
    "print(\"Set with the use of String: \", s1)\n",
    "\n",
    "s2 = set([\"Geeks\", \"For\", \"Geeks\"])\n",
    "print(\"Set with the use of List: \", s2)"
   ]
  },
  {
   "cell_type": "code",
   "execution_count": 4,
   "id": "bf9e7689",
   "metadata": {},
   "outputs": [
    {
     "name": "stdout",
     "output_type": "stream",
     "text": [
      "{'For', 'Geeks'}\n",
      "For Geeks True\n"
     ]
    }
   ],
   "source": [
    "set1 = set([\"Geeks\", \"For\", \"Geeks\"]) #Duplicates are removed automatically\n",
    "print(set1) \n",
    "\n",
    "# loop through set\n",
    "for i in set1:\n",
    "   print(i, end=\" \") #prints elements one by one\n",
    "  \n",
    "# check if item exist in set   \n",
    "print(\"Geeks\" in set1)"
   ]
  },
  {
   "cell_type": "markdown",
   "id": "41b7d6f1",
   "metadata": {},
   "source": [
    "**Dictionary Data Type**\n",
    "A dictionary in Python is a collection of data values, used to store data values like a map, unlike other Python Data Types, a Dictionary holds a key: value pair. Key-value is provided in dictionary to make it more optimized. Each key-value pair in a Dictionary is separated by a colon : , whereas each key is separated by a ‘comma’.\n",
    "\n",
    "**Create a Dictionary in Python**\n",
    "Values in a dictionary can be of any datatype and can be duplicated, whereas keys can’t be repeated and must be immutable. The dictionary can also be created by the built-in function dict().\n",
    "\n",
    "Note  - Dictionary keys are case sensitive, the same name but different cases of Key will be treated distinctly. "
   ]
  },
  {
   "cell_type": "code",
   "execution_count": 5,
   "id": "a5ca8f18",
   "metadata": {},
   "outputs": [
    {
     "name": "stdout",
     "output_type": "stream",
     "text": [
      "{1: 'Geeks', 2: 'For', 3: 'Geeks'}\n",
      "{1: 'Geeks', 2: 'For', 3: 'Geeks'}\n"
     ]
    }
   ],
   "source": [
    "# initialize empty dictionary\n",
    "d = {}\n",
    "\n",
    "d = {1: 'Geeks', 2: 'For', 3: 'Geeks'}\n",
    "print(d)\n",
    "\n",
    "# creating dictionary using dict() constructor\n",
    "d1 = dict({1: 'Geeks', 2: 'For', 3: 'Geeks'})\n",
    "print(d1)"
   ]
  },
  {
   "cell_type": "markdown",
   "id": "ad737554",
   "metadata": {},
   "source": [
    "In order to access items of a dictionary refer to its key name. Key can be used inside square brackets. Using **get()** method we can access dictionary elements."
   ]
  },
  {
   "cell_type": "code",
   "execution_count": 6,
   "id": "e9dd264a",
   "metadata": {},
   "outputs": [
    {
     "name": "stdout",
     "output_type": "stream",
     "text": [
      "For\n",
      "Geeks\n"
     ]
    }
   ],
   "source": [
    "d = {1: 'Geeks', 'name': 'For', 3: 'Geeks'}\n",
    "\n",
    "# Accessing an element using key\n",
    "print(d['name'])\n",
    "\n",
    "# Accessing a element using get\n",
    "print(d.get(3))"
   ]
  },
  {
   "cell_type": "markdown",
   "id": "e41b2001",
   "metadata": {},
   "source": [
    "we can use **random()** function to generate the random values in python."
   ]
  },
  {
   "cell_type": "code",
   "execution_count": 5,
   "id": "24c96a78",
   "metadata": {},
   "outputs": [
    {
     "name": "stdout",
     "output_type": "stream",
     "text": [
      "4\n"
     ]
    }
   ],
   "source": [
    "import random\n",
    "print(random.randrange(1,10))"
   ]
  },
  {
   "cell_type": "markdown",
   "id": "729623f7",
   "metadata": {},
   "source": [
    "**Length** function is used determine the number of items present in a objects or variable in python.\n",
    "\n",
    "you can use **len()** to calculate the length of variable especially string, list, tuples, sets, dictionary in python.\n",
    "\n",
    "it can also take space between words into consideration while counting."
   ]
  },
  {
   "cell_type": "code",
   "execution_count": 6,
   "id": "764c26e1",
   "metadata": {},
   "outputs": [
    {
     "name": "stdout",
     "output_type": "stream",
     "text": [
      "14\n"
     ]
    }
   ],
   "source": [
    "str1 = \"This is a cat!\"\n",
    "print(len(str1))"
   ]
  },
  {
   "cell_type": "markdown",
   "id": "9d348638",
   "metadata": {},
   "source": [
    "**Python Keywords**\n",
    "\n",
    "Keywords in Python are special reserved words that are part of the language itself. They define the rules and structure of Python programs, which means you cannot use them as names for your variables, functions, classes, or any other identifiers."
   ]
  },
  {
   "cell_type": "code",
   "execution_count": 3,
   "id": "02def42c",
   "metadata": {},
   "outputs": [
    {
     "name": "stdout",
     "output_type": "stream",
     "text": [
      "['False', 'None', 'True', 'and', 'as', 'assert', 'async', 'await', 'break', 'class', 'continue', 'def', 'del', 'elif', 'else', 'except', 'finally', 'for', 'from', 'global', 'if', 'import', 'in', 'is', 'lambda', 'nonlocal', 'not', 'or', 'pass', 'raise', 'return', 'try', 'while', 'with', 'yield']\n"
     ]
    }
   ],
   "source": [
    "import keyword\n",
    "print(keyword.kwlist)"
   ]
  },
  {
   "cell_type": "markdown",
   "id": "f7155550",
   "metadata": {},
   "source": [
    "if you try to use keyword as variable name you will get **SyntaxError**"
   ]
  },
  {
   "cell_type": "markdown",
   "id": "cf733d9c",
   "metadata": {},
   "source": [
    "> Let's categorize all keywords based on context for a more clear understanding.\n",
    "\n",
    "| category | keywords |\n",
    "| :--- | :--- |\n",
    "| **Value Keywords** | True, False, None |\n",
    "| **Operator Keywords** | and, or, not, is, in |\n",
    "| **Control Flow Keywords** | if, else, elif, for, while, break, continue, pass, try, except, finally, raise, assert |\n",
    "| **Function and Class** | def, return, lambda, yield, class |\n",
    "| **Context Management** | with, as |\n",
    "| **Import and Module** | import, from |\n",
    "| **Scope and Namespace** | global, nonlocal |\n",
    "| **Async Programming** | async, await |"
   ]
  },
  {
   "cell_type": "markdown",
   "id": "edbbf7b1",
   "metadata": {},
   "source": [
    "in short\n",
    "* **Keywords**:     Reserved words in Python that have a specific meaning.\n",
    "* **Variable**:     Used to store data.\n",
    "* **Identifiers**:  Names given to variables, functions, classes, etc.\n"
   ]
  },
  {
   "cell_type": "markdown",
   "id": "f369b469",
   "metadata": {},
   "source": [
    "**Conditional statements in python**\n",
    "\n",
    "we have if, elift, else conditional statements in python, that are used to execute certain blocks of code if the condition is satisfied. "
   ]
  },
  {
   "cell_type": "code",
   "execution_count": 7,
   "id": "65733826",
   "metadata": {},
   "outputs": [
    {
     "name": "stdout",
     "output_type": "stream",
     "text": [
      "free is present in the statement\n"
     ]
    }
   ],
   "source": [
    "statement1 = \"This is available for free\"\n",
    "x = \"free\"\n",
    "if x in statement1:\n",
    "    print(f\"{x} is present in the statement\")\n",
    "else:\n",
    "    print(f\"{x} not present in the statement\")"
   ]
  },
  {
   "cell_type": "code",
   "execution_count": 10,
   "id": "49f05ca2",
   "metadata": {},
   "outputs": [
    {
     "name": "stdout",
     "output_type": "stream",
     "text": [
      "you are a minor!\n"
     ]
    }
   ],
   "source": [
    "age = int(input(\"please enter your age: \"))\n",
    "if age > 18:\n",
    "    print(\"you are an adult\")\n",
    "else:\n",
    "    print(\"you are a minor!\")"
   ]
  },
  {
   "cell_type": "markdown",
   "id": "4bc53c62",
   "metadata": {},
   "source": [
    "write a function that returns true if\n",
    "\n",
    "either a or b is non negative not both and flag is false\n",
    "\n",
    "both a and b are negative and flag is true"
   ]
  },
  {
   "cell_type": "code",
   "execution_count": 3,
   "id": "38c023a5",
   "metadata": {},
   "outputs": [
    {
     "data": {
      "text/plain": [
       "False"
      ]
     },
     "execution_count": 3,
     "metadata": {},
     "output_type": "execute_result"
    }
   ],
   "source": [
    "def check_status(a,b,flag):\n",
    "    if ((a>=0) != (b>=0)) and not flag:\n",
    "        return True\n",
    "    elif a<0 and b<0 and flag:\n",
    "        return True\n",
    "    else:\n",
    "        return False\n",
    "check_status(1,1,False)"
   ]
  },
  {
   "cell_type": "code",
   "execution_count": 5,
   "id": "48efd144",
   "metadata": {},
   "outputs": [
    {
     "name": "stdout",
     "output_type": "stream",
     "text": [
      "True\n",
      "0o27\n"
     ]
    }
   ],
   "source": [
    "s = \"gfg\"\n",
    "print((\"g\" or \"\")in s)\n",
    "print(oct(23))"
   ]
  },
  {
   "cell_type": "markdown",
   "id": "6ecea15a",
   "metadata": {},
   "source": [
    "write a function which prints 1 to x in order of 1^2, 2^2 etc in increasing order."
   ]
  },
  {
   "cell_type": "code",
   "execution_count": 6,
   "id": "682bd8bb",
   "metadata": {},
   "outputs": [
    {
     "name": "stdout",
     "output_type": "stream",
     "text": [
      "1 4 9 "
     ]
    }
   ],
   "source": [
    "def printPower(x):\n",
    "    i = 1\n",
    "    while i*i <=x:\n",
    "        print(i*i,end = \" \")\n",
    "        i+=1\n",
    "printPower(10)"
   ]
  },
  {
   "cell_type": "markdown",
   "id": "218b8f0c",
   "metadata": {},
   "source": [
    "By default **input()** function takes string, if you want the input in other datatypes, you need to typecast it."
   ]
  },
  {
   "cell_type": "markdown",
   "id": "f1ff3d00",
   "metadata": {},
   "source": [
    "**Ternary Conditional Statement**\n",
    "\n",
    "A ternary conditional statement is a compact way to write an if-else condition in a single line. It’s sometimes called a \"conditional expression.\""
   ]
  },
  {
   "cell_type": "code",
   "execution_count": 11,
   "id": "bf78c242",
   "metadata": {},
   "outputs": [
    {
     "name": "stdout",
     "output_type": "stream",
     "text": [
      "B\n",
      "B\n"
     ]
    }
   ],
   "source": [
    "a = 2\n",
    "b = 330\n",
    "print('A') if a>200 else print('B')\n",
    "print('A') if a>b else print('=') if a==b else print('B')"
   ]
  },
  {
   "cell_type": "markdown",
   "id": "394d35f9",
   "metadata": {},
   "source": [
    "you can use **pass** or **continue** statement if you want a particular codeblock to continue with flow regardless of the conditions\n",
    "\n",
    "you can use **break** if you want to interrupt the execution of the code."
   ]
  },
  {
   "cell_type": "code",
   "execution_count": 14,
   "id": "1232d39a",
   "metadata": {},
   "outputs": [
    {
     "name": "stdout",
     "output_type": "stream",
     "text": [
      "1\n",
      "2\n",
      "3\n",
      "4\n"
     ]
    }
   ],
   "source": [
    "i=1\n",
    "while (i<6):\n",
    "    print(i)\n",
    "    i += 1\n",
    "    if i == 5:\n",
    "        break"
   ]
  },
  {
   "cell_type": "code",
   "execution_count": 15,
   "id": "47aefac3",
   "metadata": {},
   "outputs": [
    {
     "name": "stdout",
     "output_type": "stream",
     "text": [
      "1\n",
      "2\n",
      "3\n",
      "4\n",
      "5\n",
      "6\n",
      "7 is no longer less than 7\n"
     ]
    }
   ],
   "source": [
    "i = 1\n",
    "while i<7:\n",
    "    print(i)\n",
    "    i = i+1\n",
    "else:\n",
    "    print(f\"{i} is no longer less than 7\")"
   ]
  },
  {
   "cell_type": "markdown",
   "id": "50dc429f",
   "metadata": {},
   "source": [
    "**Match-Case Statement**\n",
    "\n",
    "match-case statement is Python's version of a switch-case found in other languages. It allows us to match a variable's value against a set of patterns."
   ]
  },
  {
   "cell_type": "code",
   "execution_count": 9,
   "id": "1637aee4",
   "metadata": {},
   "outputs": [
    {
     "name": "stdout",
     "output_type": "stream",
     "text": [
      "Two or Three\n"
     ]
    }
   ],
   "source": [
    "number = 3\n",
    "\n",
    "match number:\n",
    "    case 1:\n",
    "        print(\"One\")\n",
    "    case 2 | 3:\n",
    "        print(\"Two or Three\")\n",
    "    case _:\n",
    "        print(\"Other number\")"
   ]
  },
  {
   "cell_type": "markdown",
   "id": "a9f15dc9",
   "metadata": {},
   "source": [
    "**Arbitrary Arguments**\n",
    "\n",
    "In Python Arbitrary Keyword Arguments, *args and **kwargs can pass a variable number of arguments to a function using special symbols. There are two special symbols:\n",
    "\n",
    "*args in Python (Non-Keyword Arguments)\n",
    "**kwargs in Python (Keyword Arguments)\n",
    "This code separately shows non-keyword (*args) and keyword (**kwargs) arguments in the same function."
   ]
  },
  {
   "cell_type": "code",
   "execution_count": 7,
   "id": "832366fb",
   "metadata": {},
   "outputs": [
    {
     "name": "stdout",
     "output_type": "stream",
     "text": [
      "Non-Keyword Arguments (*args):\n",
      "Hey\n",
      "Welcome\n",
      "\n",
      "Keyword Arguments (**kwargs):\n",
      "first == Geeks\n",
      "mid == for\n",
      "last == Geeks\n"
     ]
    }
   ],
   "source": [
    "def myFun(*args, **kwargs):\n",
    "    print(\"Non-Keyword Arguments (*args):\")\n",
    "    for arg in args:\n",
    "        print(arg)\n",
    "\n",
    "    print(\"\\nKeyword Arguments (**kwargs):\")\n",
    "    for key, value in kwargs.items():\n",
    "        print(f\"{key} == {value}\")\n",
    "\n",
    "# Function call with both types of arguments\n",
    "myFun('Hey', 'Welcome', first='Geeks', mid='for', last='Geeks')"
   ]
  },
  {
   "cell_type": "markdown",
   "id": "b838f8b3",
   "metadata": {},
   "source": [
    "**Recursive Functions**\n",
    "\n",
    "A recursive function is a function that calls itself to solve a problem. It is commonly used in mathematical and divide-and-conquer problems. Always include a base case to avoid infinite recursion."
   ]
  },
  {
   "cell_type": "code",
   "execution_count": 9,
   "id": "c53221d9",
   "metadata": {},
   "outputs": [
    {
     "name": "stdout",
     "output_type": "stream",
     "text": [
      "24\n"
     ]
    }
   ],
   "source": [
    "#recursive \n",
    "def factorial(n):\n",
    "    if n == 0:  \n",
    "        return 1\n",
    "    else:\n",
    "        return n * factorial(n - 1) \n",
    "      \n",
    "print(factorial(4))"
   ]
  },
  {
   "cell_type": "markdown",
   "id": "2b59a091",
   "metadata": {},
   "source": [
    "**Ternary Operator**\n",
    "\n",
    "in Python, Ternary operators also known as conditional expressions are operators that evaluate something based on a condition being true or false. It was added to Python in version 2.5. \n",
    "\n",
    "It simply allows testing a condition in a single line replacing the multiline if-else, making the code compact.\n",
    "\n",
    "Syntax :  [on_true] if [expression] else [on_false] "
   ]
  },
  {
   "cell_type": "code",
   "execution_count": 1,
   "id": "ca76ca3e",
   "metadata": {},
   "outputs": [
    {
     "name": "stdout",
     "output_type": "stream",
     "text": [
      "10\n"
     ]
    }
   ],
   "source": [
    "a, b = 10, 20\n",
    "min = a if a < b else b\n",
    "\n",
    "print(min)"
   ]
  },
  {
   "cell_type": "markdown",
   "id": "2ba4b0ef",
   "metadata": {},
   "source": [
    "**Operator Associativity**\n",
    "\n",
    "If an expression contains two or more operators with the same precedence then Operator Associativity is used to determine. It can either be Left to Right or from Right to Left."
   ]
  },
  {
   "cell_type": "code",
   "execution_count": 2,
   "id": "154345ed",
   "metadata": {},
   "outputs": [
    {
     "name": "stdout",
     "output_type": "stream",
     "text": [
      "100.0\n",
      "6\n",
      "0\n",
      "512\n"
     ]
    }
   ],
   "source": [
    "print(100 / 10 * 10)\n",
    "print(5 - 2 + 3)\n",
    "print(5 - (2 + 3))\n",
    "print(2 ** 3 ** 2)"
   ]
  },
  {
   "cell_type": "markdown",
   "id": "b9a95eff",
   "metadata": {},
   "source": [
    "**Python Lambda Functions**\n",
    "\n",
    "Lambda Functions are anonymous functions means that the function is without a name. As we already know def keyword is used to define a normal function in Python. Similarly, lambda keyword is used to define an anonymous function in Python. \n",
    "\n",
    "In the example, we defined a lambda function (upper) to convert a string to its upper case using upper()."
   ]
  },
  {
   "cell_type": "code",
   "execution_count": 10,
   "id": "0a37bb67",
   "metadata": {},
   "outputs": [
    {
     "name": "stdout",
     "output_type": "stream",
     "text": [
      "GEEKSFORGEEKS\n"
     ]
    }
   ],
   "source": [
    "s1 = 'GeeksforGeeks'\n",
    "s2 = lambda func: func.upper()\n",
    "print(s2(s1))"
   ]
  },
  {
   "cell_type": "markdown",
   "id": "b2892d6a",
   "metadata": {},
   "source": [
    "Explanation: s2 is a lambda function that takes a string and returns it in uppercase. Applying it to 'GeeksforGeeks' gives the result."
   ]
  },
  {
   "cell_type": "code",
   "execution_count": 11,
   "id": "31872df2",
   "metadata": {},
   "outputs": [
    {
     "name": "stdout",
     "output_type": "stream",
     "text": [
      "Positive\n",
      "Negative\n",
      "Zero\n"
     ]
    }
   ],
   "source": [
    "n = lambda x: \"Positive\" if x > 0 else \"Negative\" if x < 0 else \"Zero\"\n",
    "print(n(5))   \n",
    "print(n(-3))  \n",
    "print(n(0))"
   ]
  },
  {
   "cell_type": "code",
   "execution_count": 12,
   "id": "532b442f",
   "metadata": {},
   "outputs": [
    {
     "name": "stdout",
     "output_type": "stream",
     "text": [
      "Even\n",
      "Odd\n"
     ]
    }
   ],
   "source": [
    "check = lambda x: \"Even\" if x % 2 == 0 else \"Odd\"\n",
    "print(check(4))  \n",
    "print(check(7))"
   ]
  },
  {
   "cell_type": "markdown",
   "id": "56ae4ef9",
   "metadata": {},
   "source": [
    "**Using with List Comprehension**\n",
    "\n",
    "Combining lambda with list comprehensions enables us to apply transformations to data in a concise way.\n",
    "\n",
    "This code creates a list of lambda functions, each multiplying its input by 10 and then executes them one by one."
   ]
  },
  {
   "cell_type": "code",
   "execution_count": 13,
   "id": "55cebf86",
   "metadata": {},
   "outputs": [
    {
     "name": "stdout",
     "output_type": "stream",
     "text": [
      "10\n",
      "20\n",
      "30\n",
      "40\n"
     ]
    }
   ],
   "source": [
    "li = [lambda arg=x: arg * 10 for x in range(1, 5)]\n",
    "for i in li:\n",
    "    print(i())"
   ]
  },
  {
   "cell_type": "markdown",
   "id": "29850b20",
   "metadata": {},
   "source": [
    "Explanation:\n",
    "\n",
    "* The lambda function multiplies each element by 10.\n",
    "* The list comprehension iterates through li and applies the lambda to each element.\n",
    "* This is ideal for applying transformations to datasets in data preprocessing or manipulation tasks."
   ]
  },
  {
   "cell_type": "markdown",
   "id": "2d0eac12",
   "metadata": {},
   "source": [
    "** Using for Returning Multiple Results**\n",
    "\n",
    "Lambda functions do not allow multiple statements, however, we can create two lambda functions and then call the other lambda function as a parameter to the first function.\n",
    "\n",
    "The lambda calculates both sum and product of two numbers and returns them as a tuple."
   ]
  },
  {
   "cell_type": "code",
   "execution_count": 14,
   "id": "8b1feb25",
   "metadata": {},
   "outputs": [
    {
     "name": "stdout",
     "output_type": "stream",
     "text": [
      "(7, 12)\n"
     ]
    }
   ],
   "source": [
    "calc = lambda x, y: (x + y, x * y)\n",
    "res = calc(3, 4)\n",
    "print(res)"
   ]
  },
  {
   "cell_type": "markdown",
   "id": "e77ec996",
   "metadata": {},
   "source": [
    "**Using with filter()**\n",
    "\n",
    "The filter() function in Python takes in a function and a list as arguments. This offers an elegant way to filter out all the elements of a sequence \"sequence\", for which the function returns True.\n",
    "\n",
    "Here, the lambda is used as a filtering condition to keep only even numbers from the list."
   ]
  },
  {
   "cell_type": "code",
   "execution_count": 15,
   "id": "6b484087",
   "metadata": {},
   "outputs": [
    {
     "name": "stdout",
     "output_type": "stream",
     "text": [
      "[2, 4, 6]\n"
     ]
    }
   ],
   "source": [
    "n = [1, 2, 3, 4, 5, 6]\n",
    "even = filter(lambda x: x % 2 == 0, n)\n",
    "print(list(even))"
   ]
  },
  {
   "cell_type": "markdown",
   "id": "61e1433a",
   "metadata": {},
   "source": [
    "**Using with map()**\n",
    "\n",
    "The map() function in Python takes in a function and a list as an argument. The function is called with a lambda function and a new list is returned which contains all the lambda-modified items returned by that function for each item.\n",
    "\n",
    "This code doubles each element of the list using a lambda function and returns a new list."
   ]
  },
  {
   "cell_type": "code",
   "execution_count": 16,
   "id": "cba24bd1",
   "metadata": {},
   "outputs": [
    {
     "name": "stdout",
     "output_type": "stream",
     "text": [
      "[2, 4, 6, 8]\n"
     ]
    }
   ],
   "source": [
    "a = [1, 2, 3, 4]\n",
    "b = map(lambda x: x * 2, a)\n",
    "print(list(b))"
   ]
  },
  {
   "cell_type": "markdown",
   "id": "8f7bdfc8",
   "metadata": {},
   "source": [
    "**Using with reduce()**\n",
    "\n",
    "The reduce() function in Python takes in a function and a list as an argument. The function is called with a lambda function and an iterable and a new reduced result is returned. This performs a repetitive operation over the pairs of the iterable. The reduce() function belongs to the functools module. \n",
    "\n",
    "Here, the lambda multiplies two numbers at a time and reduce() applies this across the whole list to calculate the product."
   ]
  },
  {
   "cell_type": "code",
   "execution_count": 17,
   "id": "a80a577c",
   "metadata": {},
   "outputs": [
    {
     "name": "stdout",
     "output_type": "stream",
     "text": [
      "24\n"
     ]
    }
   ],
   "source": [
    "from functools import reduce\n",
    "a = [1, 2, 3, 4]\n",
    "b = reduce(lambda x, y: x * y, a)\n",
    "print(b)"
   ]
  },
  {
   "cell_type": "markdown",
   "id": "a474df16",
   "metadata": {},
   "source": [
    "**Difference Between lambda and def Keyword**\n",
    "\n",
    "In Python, both lambda and def can be used to define functions, but they serve slightly different purposes. While def is used for creating standard reusable functions, lambda is mainly used for short, anonymous functions that are needed only temporarily."
   ]
  },
  {
   "cell_type": "markdown",
   "id": "99ef515b",
   "metadata": {},
   "source": [
    "***Python Class***\n",
    "\n",
    "A class is a collection of objects. Classes are blueprints for creating objects. A class defines a set of attributes and methods that the created objects (instances) can have.\n",
    "\n",
    "Some points on Python class:  \n",
    "\n",
    "* Classes are created by keyword class.\n",
    "* Attributes are the variables that belong to a class.\n",
    "* Attributes are always public and can be accessed using the dot (.) operator. Example: Myclass.Myattribute"
   ]
  },
  {
   "cell_type": "code",
   "execution_count": 18,
   "id": "2e6c034f",
   "metadata": {},
   "outputs": [],
   "source": [
    "class Dog:\n",
    "    species = \"Canine\"  # Class attribute\n",
    "\n",
    "    def __init__(self, name, age):\n",
    "        self.name = name  # Instance attribute\n",
    "        self.age = age  # Instance attribute"
   ]
  },
  {
   "cell_type": "markdown",
   "id": "92f4772d",
   "metadata": {},
   "source": [
    "**Python Objects**\n",
    "An Object is an instance of a Class. It represents a specific implementation of the class and holds its own data.\n",
    "\n",
    "An object consists of:\n",
    "\n",
    "* State: It is represented by the attributes and reflects the properties of an object.\n",
    "* Behavior: It is represented by the methods of an object and reflects the response of an object to other objects.\n",
    "* Identity: It gives a unique name to an object and enables one object to interact with other objects.\n",
    "\n",
    "Creating Object\n",
    "* Creating an object in Python involves instantiating a class to create a new instance of that class. This process is also referred to as object instantiation."
   ]
  },
  {
   "cell_type": "code",
   "execution_count": 19,
   "id": "ae56a77a",
   "metadata": {},
   "outputs": [
    {
     "name": "stdout",
     "output_type": "stream",
     "text": [
      "Buddy\n",
      "Canine\n"
     ]
    }
   ],
   "source": [
    "class Dog:\n",
    "    species = \"Canine\"  # Class attribute\n",
    "\n",
    "    def __init__(self, name, age):\n",
    "        self.name = name  # Instance attribute\n",
    "        self.age = age  # Instance attribute\n",
    "\n",
    "# Creating an object of the Dog class\n",
    "dog1 = Dog(\"Buddy\", 3)\n",
    "\n",
    "print(dog1.name) \n",
    "print(dog1.species)"
   ]
  },
  {
   "cell_type": "markdown",
   "id": "8b242d02",
   "metadata": {},
   "source": [
    "**__init__** method is the constructor in Python, automatically called when a new object is created. It initializes the attributes of the class."
   ]
  },
  {
   "cell_type": "code",
   "execution_count": 20,
   "id": "2f104f85",
   "metadata": {},
   "outputs": [
    {
     "name": "stdout",
     "output_type": "stream",
     "text": [
      "Canine\n",
      "Buddy\n",
      "Charlie\n",
      "Max\n",
      "Feline\n",
      "Feline\n"
     ]
    }
   ],
   "source": [
    "#you can also define class and instance variables\n",
    "class Dog:\n",
    "    # Class variable\n",
    "    species = \"Canine\"\n",
    "\n",
    "    def __init__(self, name, age):\n",
    "        # Instance variables\n",
    "        self.name = name\n",
    "        self.age = age\n",
    "\n",
    "# Create objects\n",
    "dog1 = Dog(\"Buddy\", 3)\n",
    "dog2 = Dog(\"Charlie\", 5)\n",
    "\n",
    "# Access class and instance variables\n",
    "print(dog1.species)  # (Class variable)\n",
    "print(dog1.name)     # (Instance variable)\n",
    "print(dog2.name)     # (Instance variable)\n",
    "\n",
    "# Modify instance variables\n",
    "dog1.name = \"Max\"\n",
    "print(dog1.name)     # (Updated instance variable)\n",
    "\n",
    "# Modify class variable\n",
    "Dog.species = \"Feline\"\n",
    "print(dog1.species)  # (Updated class variable)\n",
    "print(dog2.species)"
   ]
  },
  {
   "cell_type": "markdown",
   "id": "78964560",
   "metadata": {},
   "source": [
    "Explanation:\n",
    "\n",
    "* Class Variable (species): Shared by all instances of the class. Changing Dog.species affects all objects, as it's a property of the class itself.\n",
    "* Instance Variables (name, age): Defined in the __init__ method. Unique to each instance (e.g., dog1.name and dog2.name are different).\n",
    "* Accessing Variables: Class variables can be accessed via the class name (Dog.species) or an object (dog1.species). Instance variables are accessed via the object (dog1.name).\n",
    "* Updating Variables: Changing Dog.species affects all instances. Changing dog1.name only affects dog1 and does not impact dog2."
   ]
  },
  {
   "cell_type": "markdown",
   "id": "f481584a",
   "metadata": {},
   "source": [
    "**Python strings**\n",
    "\n",
    "strip() and replace(): strip() removes leading and trailing whitespace from the string and replace() replaces all occurrences of a specified substring with another."
   ]
  },
  {
   "cell_type": "code",
   "execution_count": 21,
   "id": "337c2e4e",
   "metadata": {},
   "outputs": [
    {
     "name": "stdout",
     "output_type": "stream",
     "text": [
      "Gfg\n",
      "Python is awesome\n"
     ]
    }
   ],
   "source": [
    "s = \"   Gfg   \"\n",
    "print(s.strip())    \n",
    "\n",
    "s = \"Python is fun\"\n",
    "print(s.replace(\"fun\", \"awesome\"))"
   ]
  },
  {
   "cell_type": "markdown",
   "id": "4b729e30",
   "metadata": {},
   "source": [
    "**Using format()**\n",
    "\n",
    "Another way to format strings is by using format() method.\n",
    "\n",
    "Example: Use placeholders {} and pass values positionally."
   ]
  },
  {
   "cell_type": "code",
   "execution_count": 22,
   "id": "af30ee48",
   "metadata": {},
   "outputs": [
    {
     "name": "stdout",
     "output_type": "stream",
     "text": [
      "My name is Alice and I am 22 years old.\n"
     ]
    }
   ],
   "source": [
    "s = \"My name is {} and I am {} years old.\".format(\"Alice\", 22)\n",
    "print(s)"
   ]
  },
  {
   "cell_type": "code",
   "execution_count": null,
   "id": "3c893734",
   "metadata": {},
   "outputs": [],
   "source": []
  }
 ],
 "metadata": {
  "kernelspec": {
   "display_name": "Python 3",
   "language": "python",
   "name": "python3"
  },
  "language_info": {
   "codemirror_mode": {
    "name": "ipython",
    "version": 3
   },
   "file_extension": ".py",
   "mimetype": "text/x-python",
   "name": "python",
   "nbconvert_exporter": "python",
   "pygments_lexer": "ipython3",
   "version": "3.10.0"
  }
 },
 "nbformat": 4,
 "nbformat_minor": 5
}
