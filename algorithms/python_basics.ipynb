{
 "cells": [
  {
   "cell_type": "markdown",
   "id": "43595216",
   "metadata": {},
   "source": [
    "**Basics of Python**:\n",
    "\n",
    "if you want to print anything, you use the following statement."
   ]
  },
  {
   "cell_type": "code",
   "execution_count": 1,
   "id": "8995c9ac",
   "metadata": {},
   "outputs": [
    {
     "name": "stdout",
     "output_type": "stream",
     "text": [
      "Hello World!!\n"
     ]
    }
   ],
   "source": [
    "print('Hello World!!')"
   ]
  },
  {
   "cell_type": "markdown",
   "id": "f62957ee",
   "metadata": {},
   "source": [
    "**Variables in python**:\n",
    "\n",
    "these are used to define symbolic names that are used to store values in python\n",
    "\n",
    "**Datatypes in python**:\n",
    "\n",
    "these are the datatypes in python represented by types() mainly consists of int, float, str, list, bool etc here are the few examples."
   ]
  },
  {
   "cell_type": "code",
   "execution_count": null,
   "id": "62764fd5",
   "metadata": {},
   "outputs": [],
   "source": []
  },
  {
   "cell_type": "markdown",
   "id": "f58fdc70",
   "metadata": {},
   "source": []
  }
 ],
 "metadata": {
  "kernelspec": {
   "display_name": "Python 3",
   "language": "python",
   "name": "python3"
  },
  "language_info": {
   "codemirror_mode": {
    "name": "ipython",
    "version": 3
   },
   "file_extension": ".py",
   "mimetype": "text/x-python",
   "name": "python",
   "nbconvert_exporter": "python",
   "pygments_lexer": "ipython3",
   "version": "3.10.0"
  }
 },
 "nbformat": 4,
 "nbformat_minor": 5
}
