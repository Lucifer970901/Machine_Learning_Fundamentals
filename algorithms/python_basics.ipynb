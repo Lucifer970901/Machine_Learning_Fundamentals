{
 "cells": [
  {
   "cell_type": "markdown",
   "id": "43595216",
   "metadata": {},
   "source": [
    "**Basics of Python**:\n",
    "\n",
    "if you want to print anything, you use the following statement."
   ]
  },
  {
   "cell_type": "code",
   "execution_count": 1,
   "id": "8995c9ac",
   "metadata": {},
   "outputs": [
    {
     "name": "stdout",
     "output_type": "stream",
     "text": [
      "Hello World!!\n"
     ]
    }
   ],
   "source": [
    "print('Hello World!!')"
   ]
  },
  {
   "cell_type": "markdown",
   "id": "f62957ee",
   "metadata": {},
   "source": [
    "**Variables in python**:\n",
    "\n",
    "these are used to define symbolic names that are used to store values in python\n",
    "* Unlike Java and many other languages, Python variables do not require explicit declaration of type.\n",
    "* The type of the variable is inferred based on the value assigned.\n",
    "\n",
    "To use variables effectively, we must follow Python’s naming rules:\n",
    "\n",
    "* Variable names can only contain letters, digits and underscores (_).\n",
    "* A variable name cannot start with a digit.\n",
    "* Variable names are case-sensitive (myVar and myvar are different).\n",
    "* Avoid using Python keywords (e.g., if, else, for) as variable names.\n",
    "\n"
   ]
  },
  {
   "cell_type": "code",
   "execution_count": 2,
   "id": "bde026bd",
   "metadata": {},
   "outputs": [
    {
     "name": "stdout",
     "output_type": "stream",
     "text": [
      "100 100 100\n"
     ]
    }
   ],
   "source": [
    "#in python variables can have multiple assignments.\n",
    "a = b = c = 100\n",
    "print(a, b, c)"
   ]
  },
  {
   "cell_type": "markdown",
   "id": "f520dc35",
   "metadata": {},
   "source": [
    "**Datatypes in python**:\n",
    "\n",
    "these are the datatypes in python represented by types() mainly consists of int, float, str, list, bool etc here are the few examples."
   ]
  },
  {
   "cell_type": "code",
   "execution_count": 2,
   "id": "62764fd5",
   "metadata": {},
   "outputs": [
    {
     "data": {
      "text/plain": [
       "int"
      ]
     },
     "execution_count": 2,
     "metadata": {},
     "output_type": "execute_result"
    }
   ],
   "source": [
    "x = 5\n",
    "type(x) "
   ]
  },
  {
   "cell_type": "code",
   "execution_count": 3,
   "id": "6e72637c",
   "metadata": {},
   "outputs": [
    {
     "name": "stdout",
     "output_type": "stream",
     "text": [
      "<class 'float'> 10.0\n",
      "<class 'int'> 2\n",
      "<class 'complex'> (1+0j)\n"
     ]
    }
   ],
   "source": [
    "x= 10\n",
    "a = float(x)\n",
    "y = 2.312\n",
    "b = int(y)\n",
    "z = 1\n",
    "c = complex(z)\n",
    "print(type(a),a)\n",
    "print(type(b),b)\n",
    "print(type(c),c)"
   ]
  },
  {
   "cell_type": "markdown",
   "id": "f58fdc70",
   "metadata": {},
   "source": [
    "This is called **Typecasting** where you can convert the value from one datatype to another. however you cannot convert string to int or float or viceversa. you might get value error as string cannot be represented as number."
   ]
  },
  {
   "cell_type": "markdown",
   "id": "566b410b",
   "metadata": {},
   "source": [
    "Basic Casting Functions\n",
    "* int() - Converts compatible values to an integer.\n",
    "* float() - Transforms values into floating-point numbers.\n",
    "* str() - Converts any data type into a string."
   ]
  },
  {
   "cell_type": "markdown",
   "id": "e41b2001",
   "metadata": {},
   "source": [
    "we can use **random()** function to generate the random values in python."
   ]
  },
  {
   "cell_type": "code",
   "execution_count": 5,
   "id": "24c96a78",
   "metadata": {},
   "outputs": [
    {
     "name": "stdout",
     "output_type": "stream",
     "text": [
      "4\n"
     ]
    }
   ],
   "source": [
    "import random\n",
    "print(random.randrange(1,10))"
   ]
  },
  {
   "cell_type": "markdown",
   "id": "729623f7",
   "metadata": {},
   "source": [
    "**Length** function is used determine the number of items present in a objects or variable in python.\n",
    "\n",
    "you can use **len()** to calculate the length of variable especially string, list, tuples, sets, dictionary in python.\n",
    "\n",
    "it can also take space between words into consideration while counting."
   ]
  },
  {
   "cell_type": "code",
   "execution_count": 6,
   "id": "764c26e1",
   "metadata": {},
   "outputs": [
    {
     "name": "stdout",
     "output_type": "stream",
     "text": [
      "14\n"
     ]
    }
   ],
   "source": [
    "str1 = \"This is a cat!\"\n",
    "print(len(str1))"
   ]
  },
  {
   "cell_type": "markdown",
   "id": "9d348638",
   "metadata": {},
   "source": [
    "**Python Keywords**\n",
    "\n",
    "Keywords in Python are special reserved words that are part of the language itself. They define the rules and structure of Python programs, which means you cannot use them as names for your variables, functions, classes, or any other identifiers."
   ]
  },
  {
   "cell_type": "code",
   "execution_count": 3,
   "id": "02def42c",
   "metadata": {},
   "outputs": [
    {
     "name": "stdout",
     "output_type": "stream",
     "text": [
      "['False', 'None', 'True', 'and', 'as', 'assert', 'async', 'await', 'break', 'class', 'continue', 'def', 'del', 'elif', 'else', 'except', 'finally', 'for', 'from', 'global', 'if', 'import', 'in', 'is', 'lambda', 'nonlocal', 'not', 'or', 'pass', 'raise', 'return', 'try', 'while', 'with', 'yield']\n"
     ]
    }
   ],
   "source": [
    "import keyword\n",
    "print(keyword.kwlist)"
   ]
  },
  {
   "cell_type": "markdown",
   "id": "f7155550",
   "metadata": {},
   "source": [
    "if you try to use keyword as variable name you will get **SyntaxError**"
   ]
  },
  {
   "cell_type": "markdown",
   "id": "cf733d9c",
   "metadata": {},
   "source": [
    "> Let's categorize all keywords based on context for a more clear understanding.\n",
    "\n",
    "| category | keywords |\n",
    "| :--- | :--- |\n",
    "| **Value Keywords** | True, False, None |\n",
    "| **Operator Keywords** | and, or, not, is, in |\n",
    "| **Control Flow Keywords** | if, else, elif, for, while, break, continue, pass, try, except, finally, raise, assert |\n",
    "| **Function and Class** | def, return, lambda, yield, class |\n",
    "| **Context Management** | with, as |\n",
    "| **Import and Module** | import, from |\n",
    "| **Scope and Namespace** | global, nonlocal |\n",
    "| **Async Programming** | async, await |"
   ]
  },
  {
   "cell_type": "markdown",
   "id": "edbbf7b1",
   "metadata": {},
   "source": [
    "in short\n",
    "* **Keywords**:     Reserved words in Python that have a specific meaning.\n",
    "* **Variable**:     Used to store data.\n",
    "* **Identifiers**:  Names given to variables, functions, classes, etc.\n"
   ]
  },
  {
   "cell_type": "markdown",
   "id": "f369b469",
   "metadata": {},
   "source": [
    "**Conditional statements in python**\n",
    "\n",
    "we have if, elift, else conditional statements in python, that are used to execute certain blocks of code if the condition is satisfied. "
   ]
  },
  {
   "cell_type": "code",
   "execution_count": 7,
   "id": "65733826",
   "metadata": {},
   "outputs": [
    {
     "name": "stdout",
     "output_type": "stream",
     "text": [
      "free is present in the statement\n"
     ]
    }
   ],
   "source": [
    "statement1 = \"This is available for free\"\n",
    "x = \"free\"\n",
    "if x in statement1:\n",
    "    print(f\"{x} is present in the statement\")\n",
    "else:\n",
    "    print(f\"{x} not present in the statement\")"
   ]
  },
  {
   "cell_type": "code",
   "execution_count": 10,
   "id": "49f05ca2",
   "metadata": {},
   "outputs": [
    {
     "name": "stdout",
     "output_type": "stream",
     "text": [
      "you are a minor!\n"
     ]
    }
   ],
   "source": [
    "age = int(input(\"please enter your age: \"))\n",
    "if age > 18:\n",
    "    print(\"you are an adult\")\n",
    "else:\n",
    "    print(\"you are a minor!\")"
   ]
  },
  {
   "cell_type": "markdown",
   "id": "218b8f0c",
   "metadata": {},
   "source": [
    "By default **input()** function takes string, if you want the input in other datatypes, you need to typecast it."
   ]
  },
  {
   "cell_type": "code",
   "execution_count": 11,
   "id": "bf78c242",
   "metadata": {},
   "outputs": [
    {
     "name": "stdout",
     "output_type": "stream",
     "text": [
      "B\n",
      "B\n"
     ]
    }
   ],
   "source": [
    "a = 2\n",
    "b = 330\n",
    "print('A') if a>200 else print('B')\n",
    "print('A') if a>b else print('=') if a==b else print('B')"
   ]
  },
  {
   "cell_type": "markdown",
   "id": "394d35f9",
   "metadata": {},
   "source": [
    "you can use **pass** or **continue** statement if you want a particular codeblock to continue with flow regardless of the conditions\n",
    "\n",
    "you can use **break** if you want to interrupt the execution of the code."
   ]
  },
  {
   "cell_type": "code",
   "execution_count": 14,
   "id": "1232d39a",
   "metadata": {},
   "outputs": [
    {
     "name": "stdout",
     "output_type": "stream",
     "text": [
      "1\n",
      "2\n",
      "3\n",
      "4\n"
     ]
    }
   ],
   "source": [
    "i=1\n",
    "while (i<6):\n",
    "    print(i)\n",
    "    i += 1\n",
    "    if i == 5:\n",
    "        break"
   ]
  },
  {
   "cell_type": "code",
   "execution_count": 15,
   "id": "47aefac3",
   "metadata": {},
   "outputs": [
    {
     "name": "stdout",
     "output_type": "stream",
     "text": [
      "1\n",
      "2\n",
      "3\n",
      "4\n",
      "5\n",
      "6\n",
      "7 is no longer less than 7\n"
     ]
    }
   ],
   "source": [
    "i = 1\n",
    "while i<7:\n",
    "    print(i)\n",
    "    i = i+1\n",
    "else:\n",
    "    print(f\"{i} is no longer less than 7\")"
   ]
  }
 ],
 "metadata": {
  "kernelspec": {
   "display_name": "Python 3",
   "language": "python",
   "name": "python3"
  },
  "language_info": {
   "codemirror_mode": {
    "name": "ipython",
    "version": 3
   },
   "file_extension": ".py",
   "mimetype": "text/x-python",
   "name": "python",
   "nbconvert_exporter": "python",
   "pygments_lexer": "ipython3",
   "version": "3.10.0"
  }
 },
 "nbformat": 4,
 "nbformat_minor": 5
}
