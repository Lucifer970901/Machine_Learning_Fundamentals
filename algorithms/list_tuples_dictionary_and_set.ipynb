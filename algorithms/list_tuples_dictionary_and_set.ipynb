{
 "cells": [
  {
   "cell_type": "markdown",
   "id": "7d7919e1",
   "metadata": {},
   "source": [
    "**Lists**\n",
    "\n",
    "Lists are similar to arrays found in other languages. They are an ordered and mutable collection of items. It is very flexible as items in a list do not need to be of the same type."
   ]
  },
  {
   "cell_type": "code",
   "execution_count": 1,
   "id": "da12b370",
   "metadata": {},
   "outputs": [
    {
     "name": "stdout",
     "output_type": "stream",
     "text": [
      "[1, 2, 3]\n",
      "['Geeks', 'For', 'Geeks', 4, 5]\n"
     ]
    }
   ],
   "source": [
    "# Empty list\n",
    "a = []\n",
    "\n",
    "# list with int values\n",
    "a = [1, 2, 3]\n",
    "print(a)\n",
    "\n",
    "# list with mixed values int and String\n",
    "b = [\"Geeks\", \"For\", \"Geeks\", 4, 5]\n",
    "print(b)"
   ]
  },
  {
   "cell_type": "code",
   "execution_count": 2,
   "id": "c6eef18d",
   "metadata": {},
   "outputs": [
    {
     "name": "stdout",
     "output_type": "stream",
     "text": [
      "<class 'list'>\n",
      "3\n"
     ]
    }
   ],
   "source": [
    "print(type(a))\n",
    "print(len(a))"
   ]
  },
  {
   "cell_type": "markdown",
   "id": "2c66bc66",
   "metadata": {},
   "source": [
    "**Slicing the list**\n",
    "\n",
    "in this case, the end index is omitted (exclusive)."
   ]
  },
  {
   "cell_type": "code",
   "execution_count": 10,
   "id": "6a37ff01",
   "metadata": {},
   "outputs": [
    {
     "name": "stdout",
     "output_type": "stream",
     "text": [
      "['For', 'Geeks', 4]\n",
      "['Geeks', 'For', 'Geeks', 4, 5]\n",
      "[4, 5]\n"
     ]
    }
   ],
   "source": [
    "print(b[1:4])\n",
    "print(b[:5])\n",
    "print(b[3:])"
   ]
  },
  {
   "cell_type": "code",
   "execution_count": 12,
   "id": "3cf2313e",
   "metadata": {},
   "outputs": [
    {
     "name": "stdout",
     "output_type": "stream",
     "text": [
      "Yes\n"
     ]
    }
   ],
   "source": [
    "if 'Geeks' in b:\n",
    "    print('Yes')"
   ]
  },
  {
   "cell_type": "markdown",
   "id": "3e649160",
   "metadata": {},
   "source": [
    "**append()** function is used to add the items to the existing list. while **insert()** is used to add at a certain index of the list."
   ]
  },
  {
   "cell_type": "code",
   "execution_count": 13,
   "id": "f5b97ed0",
   "metadata": {},
   "outputs": [
    {
     "name": "stdout",
     "output_type": "stream",
     "text": [
      "['Geeks', 'For', 'Geeks', 4, 5, 'kiwi']\n"
     ]
    }
   ],
   "source": [
    "b.append('kiwi')\n",
    "print(b)"
   ]
  },
  {
   "cell_type": "code",
   "execution_count": 14,
   "id": "7761ebc7",
   "metadata": {},
   "outputs": [
    {
     "name": "stdout",
     "output_type": "stream",
     "text": [
      "['Geeks', 'For', 'You', 'Geeks', 4, 5, 'kiwi']\n"
     ]
    }
   ],
   "source": [
    "b.insert(2,'You')\n",
    "print(b)"
   ]
  },
  {
   "cell_type": "code",
   "execution_count": null,
   "id": "61dac024",
   "metadata": {},
   "outputs": [
    {
     "name": "stdout",
     "output_type": "stream",
     "text": [
      "['Geeks', 'black', 'white', 'Geeks', 4, 5, 'kiwi']\n"
     ]
    }
   ],
   "source": [
    "b[1:3] = ['black','white'] # replace the values at specified indexes in a list\n",
    "print(b)"
   ]
  },
  {
   "cell_type": "markdown",
   "id": "9530d8a1",
   "metadata": {},
   "source": [
    "**Tuple Data Type**\n",
    "\n",
    "A tuple in Python is an immutable ordered collection of elements.\n",
    "\n",
    "* Tuples are similar to lists, but unlike lists, they cannot be changed after their creation (i.e., they are immutable).\n",
    "* Tuples can hold elements of different data types.\n",
    "* The main characteristics of tuples are being ordered, heterogeneous and immutable.\n",
    "\n",
    "**Creating a Tuple in Python**\n",
    "\n",
    "In Python, tuples are created by placing a sequence of values separated by a ‘comma’ with or without the use of parentheses for grouping data sequence. Tuples can contain any number of elements and of any datatype (like strings, integers, lists, etc.).\n",
    "\n",
    "Note: Tuples can also be created with a single element, but it is a bit tricky. Having one element in the parentheses is not sufficient, there must be a trailing ‘comma’ to make it a tuple. "
   ]
  },
  {
   "cell_type": "code",
   "execution_count": 16,
   "id": "8515a5a3",
   "metadata": {},
   "outputs": [
    {
     "name": "stdout",
     "output_type": "stream",
     "text": [
      "('emerald', 'ametheyst', 'peridot')\n",
      "3\n",
      "<class 'tuple'>\n"
     ]
    }
   ],
   "source": [
    "tuple1 = ('emerald', 'ametheyst','peridot')\n",
    "print(tuple1)\n",
    "print(len(tuple1))\n",
    "print(type(tuple1))"
   ]
  },
  {
   "cell_type": "code",
   "execution_count": 17,
   "id": "d30fe4b1",
   "metadata": {},
   "outputs": [
    {
     "name": "stdout",
     "output_type": "stream",
     "text": [
      "<class 'tuple'>\n",
      "('garnet', 'opal', 'ruby', 'topaz')\n"
     ]
    }
   ],
   "source": [
    "tuple2 = tuple(['garnet', 'opal','ruby','topaz'])\n",
    "print(type(tuple2))\n",
    "print(tuple2)"
   ]
  },
  {
   "cell_type": "code",
   "execution_count": 18,
   "id": "77cf7507",
   "metadata": {},
   "outputs": [
    {
     "name": "stdout",
     "output_type": "stream",
     "text": [
      "peridot\n",
      "('emerald', 'ametheyst', 'peridot', 'garnet', 'opal', 'ruby', 'topaz')\n",
      "('emerald', 'ametheyst', 'peridot', 'emerald', 'ametheyst', 'peridot')\n"
     ]
    }
   ],
   "source": [
    "#operations on tuple\n",
    "print(tuple1[-1]) # returns the last element\n",
    "tuple3 = tuple1 + tuple2\n",
    "print(tuple3)\n",
    "tuple4 = tuple1 * 2\n",
    "print(tuple4)"
   ]
  },
  {
   "cell_type": "markdown",
   "id": "86a881e9",
   "metadata": {},
   "source": [
    "**Python Dictionary**\n",
    "\n",
    "Python dictionary is a data structure that stores the value in key: value pairs. Values in a dictionary can be of any data type and can be duplicated, whereas keys can't be repeated and must be immutable.\n",
    "\n",
    "* Keys are case sensitive which means same name but different cases of Key will be treated distinctly.\n",
    "* Keys must be immutable which means keys can be strings, numbers or tuples but not lists.\n",
    "* Duplicate keys are not allowed and any duplicate key will overwrite the previous value.\n",
    "* Internally uses hashing. Hence, operations like search, insert, delete can be performed in Constant Time.\n",
    "* From Python 3.7 Version onward, Python dictionary are Ordered."
   ]
  },
  {
   "cell_type": "code",
   "execution_count": 4,
   "id": "1b31be8e",
   "metadata": {},
   "outputs": [
    {
     "name": "stdout",
     "output_type": "stream",
     "text": [
      "{'a': 'Geeks', 'b': 'for', 'c': 'Geeks'}\n",
      "Prajjwal\n",
      "Prajjwal\n",
      "{'name': 'Prajjwal', 1: 'Python dict', (1, 2): [1, 2, 4], 'age': 22}\n"
     ]
    }
   ],
   "source": [
    "# create dictionary using dict() constructor\n",
    "d2 = dict(a = \"Geeks\", b = \"for\", c = \"Geeks\")\n",
    "print(d2)\n",
    "d = { \"name\": \"Prajjwal\", 1: \"Python\", (1, 2): [1,2,4] }\n",
    "\n",
    "# Access using key\n",
    "print(d[\"name\"])\n",
    "\n",
    "# Access using get()\n",
    "print(d.get(\"name\"))\n",
    "\n",
    "# Adding a new key-value pair\n",
    "d[\"age\"] = 22\n",
    "\n",
    "# Updating an existing value\n",
    "d[1] = \"Python dict\"\n",
    "\n",
    "print(d)"
   ]
  },
  {
   "cell_type": "code",
   "execution_count": 5,
   "id": "9f0ab79c",
   "metadata": {},
   "outputs": [
    {
     "name": "stdout",
     "output_type": "stream",
     "text": [
      "{1: 'Geeks', 2: 'For', 3: 'Geeks'}\n",
      "Geeks\n",
      "Key: 3, Value: Geeks\n",
      "{}\n"
     ]
    }
   ],
   "source": [
    "d = {1: 'Geeks', 2: 'For', 3: 'Geeks', 'age':22}\n",
    "\n",
    "# Using del to remove an item\n",
    "del d[\"age\"]\n",
    "print(d)\n",
    "\n",
    "# Using pop() to remove an item and return the value\n",
    "val = d.pop(1)\n",
    "print(val)\n",
    "\n",
    "# Using popitem to removes and returns\n",
    "# the last key-value pair.\n",
    "key, val = d.popitem()\n",
    "print(f\"Key: {key}, Value: {val}\")\n",
    "\n",
    "# Clear all items from the dictionary\n",
    "d.clear()\n",
    "print(d)"
   ]
  },
  {
   "cell_type": "code",
   "execution_count": 7,
   "id": "c6037666",
   "metadata": {},
   "outputs": [
    {
     "name": "stdout",
     "output_type": "stream",
     "text": [
      "1\n",
      "2\n",
      "age\n",
      "Geeks\n",
      "For\n",
      "22\n",
      "1: Geeks\n",
      "2: For\n",
      "age: 22\n"
     ]
    }
   ],
   "source": [
    "d = {1: 'Geeks', 2: 'For', 'age':22}\n",
    "# Iterate over keys\n",
    "for key in d:\n",
    "    print(key)\n",
    "\n",
    "# Iterate over values\n",
    "for value in d.values():\n",
    "    print(value)\n",
    "\n",
    "# Iterate over key-value pairs\n",
    "for key, value in d.items():\n",
    "    print(f\"{key}: {value}\")"
   ]
  },
  {
   "cell_type": "markdown",
   "id": "068da2b9",
   "metadata": {},
   "source": [
    "**Sets**\n",
    " \n",
    "A Set in Python is used to store a collection of items with the following properties.\n",
    "\n",
    "* No duplicate elements. If try to insert the same item again, it overwrites previous one.\n",
    "* An unordered collection. When we access all items, they are accessed without any specific order and we cannot access items using indexes as we do in lists.\n",
    "* Internally use hashing that makes set efficient for search, insert and delete operations. It gives a major advantage over a list for problems with these operations.\n",
    "* Mutable, meaning we can add or remove elements after their creation, the individual elements within the set cannot be changed directly."
   ]
  },
  {
   "cell_type": "code",
   "execution_count": 8,
   "id": "519196e9",
   "metadata": {},
   "outputs": [
    {
     "name": "stdout",
     "output_type": "stream",
     "text": [
      "{'a', 'c', 'b'}\n",
      "{'a', 'c', 'b', 'd'}\n"
     ]
    }
   ],
   "source": [
    "#typecasting\n",
    "# typecasting list to set\n",
    "s = set([\"a\", \"b\", \"c\"])\n",
    "print(s)\n",
    "\n",
    "# Adding element to the set\n",
    "s.add(\"d\")\n",
    "print(s)"
   ]
  },
  {
   "cell_type": "code",
   "execution_count": 9,
   "id": "13b5a533",
   "metadata": {},
   "outputs": [
    {
     "name": "stdout",
     "output_type": "stream",
     "text": [
      "{True, 'hello', 52.7, 10, 'for'}\n"
     ]
    }
   ],
   "source": [
    "# Python example demonstrate that a set can store heterogeneous elements\n",
    "s = {\"hello\", \"for\", 10, 52.7, True}\n",
    "print(s)"
   ]
  },
  {
   "cell_type": "markdown",
   "id": "fba069ae",
   "metadata": {},
   "source": [
    "**Python Frozen Sets**\n",
    "\n",
    "Frozen sets in Python are immutable objects that only support methods and operators that produce a result without affecting the frozen set or sets to which they are applied. It can be done with frozenset() method in Python.\n",
    "\n",
    "While elements of a set can be modified at any time, elements of the frozen set remain the same after creation. \n",
    "\n",
    "If no parameters are passed, it returns an empty frozenset."
   ]
  },
  {
   "cell_type": "code",
   "execution_count": 10,
   "id": "7131184f",
   "metadata": {},
   "outputs": [
    {
     "name": "stdout",
     "output_type": "stream",
     "text": [
      "Normal Set\n",
      "{'a', 'c', 'b'}\n",
      "\n",
      "Frozen Set\n",
      "frozenset({'f', 'g', 'e'})\n"
     ]
    }
   ],
   "source": [
    "# Python program to demonstrate differences between normal and frozen set\n",
    "\n",
    "# Same as {\"a\", \"b\",\"c\"}\n",
    "s = set([\"a\", \"b\",\"c\"])\n",
    "\n",
    "print(\"Normal Set\")\n",
    "print(s)\n",
    "\n",
    "# A frozen set\n",
    "fs = frozenset([\"e\", \"f\", \"g\"])\n",
    "\n",
    "print(\"\\nFrozen Set\")\n",
    "print(fs)\n",
    "\n",
    "# Uncommenting below line would cause error aswe are trying to add element to a frozen set\n",
    "# fs.add(\"h\")"
   ]
  },
  {
   "cell_type": "markdown",
   "id": "cdda551c",
   "metadata": {},
   "source": [
    "**Internal working of Set** \n",
    "\n",
    "This is based on a data structure known as a hash table.  If Multiple values are present at the same index position, then the value is appended to that index position, to form a Linked List.\n",
    "\n",
    "In, Python Sets are implemented using a dictionary with dummy variables, where key beings the members set with greater optimizations to the time complexity."
   ]
  },
  {
   "cell_type": "markdown",
   "id": "eb98e65c",
   "metadata": {},
   "source": [
    "here are some exaples around tuple and dictionaries\n",
    "\n",
    "given the tuple of ap sequence calculate the next 3 sequences and return the whole sequence in tuple.\n",
    "\n",
    "for increasing order sequence d= 4 and for decreasing order d = -2 (ap sequence last term = a+(n-1)*d)"
   ]
  },
  {
   "cell_type": "code",
   "execution_count": 7,
   "id": "34400fd5",
   "metadata": {},
   "outputs": [
    {
     "data": {
      "text/plain": [
       "(1, 5, 9, 13, 17, 21, 25, 29)"
      ]
     },
     "execution_count": 7,
     "metadata": {},
     "output_type": "execute_result"
    }
   ],
   "source": [
    "def sequence(tup):\n",
    "    ap = list(tup)\n",
    "    n = len(ap)\n",
    "    d = ap[1] - ap[0]\n",
    "    for i in range(3):\n",
    "        if ap[i+1] > ap[i]:\n",
    "            term = ap[0] + ((n+i+1)-1) * d\n",
    "        else:\n",
    "            term = ap[0] + ((n+i+1)-1) * d\n",
    "        ap.append(term)\n",
    "    return tuple(ap)\n",
    "sequence((1,5,9,13,17))"
   ]
  },
  {
   "cell_type": "code",
   "execution_count": 6,
   "id": "acdd90ee",
   "metadata": {},
   "outputs": [
    {
     "data": {
      "text/plain": [
       "(1, 5, 9, 13, 17, 21, 25, 29)"
      ]
     },
     "execution_count": 6,
     "metadata": {},
     "output_type": "execute_result"
    }
   ],
   "source": [
    "#another way\n",
    "def sequence(tup):\n",
    "    ap = list(tup)\n",
    "    d = ap[1] -ap[0]\n",
    "    if d == 4:\n",
    "        difference = 4\n",
    "    elif d == -2:\n",
    "        difference  = -2\n",
    "    else:\n",
    "        return tuple(ap)\n",
    "    for _ in range(3):\n",
    "        term = ap[-1] + difference\n",
    "        ap.append(term)\n",
    "    return tuple(ap)\n",
    "sequence((1,5,9,13,17))"
   ]
  },
  {
   "cell_type": "markdown",
   "id": "4716fc96",
   "metadata": {},
   "source": [
    "you are given tuple of integers you needto give double of those number in tuple"
   ]
  },
  {
   "cell_type": "code",
   "execution_count": 8,
   "id": "eec00980",
   "metadata": {},
   "outputs": [
    {
     "data": {
      "text/plain": [
       "(2, 4, 6, 8, 112)"
      ]
     },
     "execution_count": 8,
     "metadata": {},
     "output_type": "execute_result"
    }
   ],
   "source": [
    "def DoubleTup(tup):\n",
    "    tup = list(tup)\n",
    "    list1 = []\n",
    "    for i in tup:\n",
    "        list1.append(i * 2)\n",
    "    return tuple(list1)\n",
    "DoubleTup((1,2,3,4,56))"
   ]
  },
  {
   "attachments": {
    "image.png": {
     "image/png": "[encoded data removed]"
    }
   },
   "cell_type": "markdown",
   "id": "8f692656",
   "metadata": {},
   "source": [
    "Perform certain tasks on dictionaries.\n",
    "* given k, as keys and v as values in dictionary print inserted after inserting\n",
    "* delete the entry for the given key d, print deleted once done if the key not present print -1\n",
    "* print the marks in the given key p in the statement as  marks of {student name} is {marks} but do not use f strings for this operation give -1 if key not present \n",
    "![image.png](attachment:image.png)"
   ]
  },
  {
   "cell_type": "code",
   "execution_count": 16,
   "id": "0b7fdb1b",
   "metadata": {},
   "outputs": [
    {
     "name": "stdout",
     "output_type": "stream",
     "text": [
      "inserted\n",
      "{'harsh': 100, 'ghutra': 200, 'mith': 300, 'ankit': '400'}\n",
      "marks of {'ankit'} is {'400'}\n"
     ]
    }
   ],
   "source": [
    "#inputs\n",
    "keys = [\"harsh\",\"ghutra\",\"mith\"]\n",
    "values = [100,200,300]\n",
    "k,v = \"ankit\",\"400\"\n",
    "d = \"mith\"\n",
    "p = \"ankit\" \n",
    "my_dict = dict(zip(keys,values))\n",
    "\n",
    "\n",
    "#1st task\n",
    "my_dict[k] = v\n",
    "print(\"inserted\")\n",
    "print(my_dict)\n",
    "#2nd task\n",
    "\n",
    "if d in my_dict:\n",
    "    my_dict.pop(d)\n",
    "else:\n",
    "    print(-1)\n",
    "#3rd task\n",
    "if p in my_dict:\n",
    "    print(\"marks of\",{p},\"is\",{my_dict.get(p)})\n",
    "else:\n",
    "    print(-1)\n"
   ]
  },
  {
   "attachments": {
    "image.png": {
     "image/png": "[encoded data removed]"
    }
   },
   "cell_type": "markdown",
   "id": "22f9bb6d",
   "metadata": {},
   "source": [
    "given array arr[] of size n, insert all the elements of arr into set and return that set. you are also given integer x, if its found in set, erase it and return \"erased x\" otherwise print not found\n",
    "\n",
    "![image.png](attachment:image.png)"
   ]
  },
  {
   "cell_type": "code",
   "execution_count": null,
   "id": "a4781140",
   "metadata": {},
   "outputs": [],
   "source": [
    "def set_insert(arr,n):\n",
    "    set1 = set(arr)\n",
    "    return set1"
   ]
  }
 ],
 "metadata": {
  "kernelspec": {
   "display_name": "Python 3",
   "language": "python",
   "name": "python3"
  },
  "language_info": {
   "codemirror_mode": {
    "name": "ipython",
    "version": 3
   },
   "file_extension": ".py",
   "mimetype": "text/x-python",
   "name": "python",
   "nbconvert_exporter": "python",
   "pygments_lexer": "ipython3",
   "version": "3.10.0"
  }
 },
 "nbformat": 4,
 "nbformat_minor": 5
}
