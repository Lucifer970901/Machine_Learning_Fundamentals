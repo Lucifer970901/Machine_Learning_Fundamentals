{
 "cells": [
  {
   "cell_type": "markdown",
   "id": "eae91c9e",
   "metadata": {},
   "source": [
    "**Collections**\n",
    "\n",
    "The collections module in Python provides specialized containers (different from general purpose built-in containers like dict, list, tuple and set). These specialized containers are designed to address specific programming needs efficiently and offer additional functionalities.\n",
    "\n",
    "***Why do we need Collections Module?***\n",
    "* Provides specialized container data types beyond built-in types like list, dict and tuple.\n",
    "* Includes efficient alternatives such as deque, Counter, OrderedDict, defaultdict and namedtuple.\n",
    "* Simplifies complex data structure handling with cleaner and faster implementations.\n",
    "* Helps in frequency counting, queue operations and structured records with minimal code.\n",
    "* Ideal for improving performance and code readability in data-heavy applications.\n",
    "\n",
    "**Counters**\n",
    "\n",
    "A counter is a sub-class of the dictionary. It is used to keep the count of the elements in an iterable in the form of an unordered dictionary where the key represents element in the iterable and value represents the count of that element in the iterable."
   ]
  },
  {
   "cell_type": "code",
   "execution_count": 1,
   "id": "8767cb0e",
   "metadata": {},
   "outputs": [
    {
     "name": "stdout",
     "output_type": "stream",
     "text": [
      "Counter({'B': 5, 'A': 3, 'C': 2})\n",
      "Counter({'B': 5, 'A': 3, 'C': 2})\n",
      "Counter({'B': 5, 'A': 3, 'C': 2})\n"
     ]
    }
   ],
   "source": [
    "from collections import Counter \n",
    "  \n",
    "# Creating Counter from a list (sequence of items)  \n",
    "print(Counter(['B','B','A','B','C','A','B','B','A','C']))\n",
    "  \n",
    "# Creating Counter from a dictionary\n",
    "print(Counter({'A':3, 'B':5, 'C':2}))\n",
    "  \n",
    "# Creating Counter using keyword arguments\n",
    "print(Counter(A=3, B=5, C=2))"
   ]
  },
  {
   "cell_type": "code",
   "execution_count": null,
   "id": "521851fb",
   "metadata": {},
   "outputs": [],
   "source": []
  }
 ],
 "metadata": {
  "kernelspec": {
   "display_name": "Python 3",
   "language": "python",
   "name": "python3"
  },
  "language_info": {
   "codemirror_mode": {
    "name": "ipython",
    "version": 3
   },
   "file_extension": ".py",
   "mimetype": "text/x-python",
   "name": "python",
   "nbconvert_exporter": "python",
   "pygments_lexer": "ipython3",
   "version": "3.10.0"
  }
 },
 "nbformat": 4,
 "nbformat_minor": 5
}
