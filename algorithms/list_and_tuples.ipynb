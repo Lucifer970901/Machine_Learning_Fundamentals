{
 "cells": [
  {
   "cell_type": "markdown",
   "id": "7d7919e1",
   "metadata": {},
   "source": [
    "**Lists**\n",
    "\n",
    "Lists are similar to arrays found in other languages. They are an ordered and mutable collection of items. It is very flexible as items in a list do not need to be of the same type."
   ]
  },
  {
   "cell_type": "code",
   "execution_count": 1,
   "id": "da12b370",
   "metadata": {},
   "outputs": [
    {
     "name": "stdout",
     "output_type": "stream",
     "text": [
      "[1, 2, 3]\n",
      "['Geeks', 'For', 'Geeks', 4, 5]\n"
     ]
    }
   ],
   "source": [
    "# Empty list\n",
    "a = []\n",
    "\n",
    "# list with int values\n",
    "a = [1, 2, 3]\n",
    "print(a)\n",
    "\n",
    "# list with mixed values int and String\n",
    "b = [\"Geeks\", \"For\", \"Geeks\", 4, 5]\n",
    "print(b)"
   ]
  },
  {
   "cell_type": "code",
   "execution_count": 2,
   "id": "c6eef18d",
   "metadata": {},
   "outputs": [
    {
     "name": "stdout",
     "output_type": "stream",
     "text": [
      "<class 'list'>\n",
      "3\n"
     ]
    }
   ],
   "source": [
    "print(type(a))\n",
    "print(len(a))"
   ]
  },
  {
   "cell_type": "markdown",
   "id": "2c66bc66",
   "metadata": {},
   "source": [
    "**Slicing the list**\n",
    "\n",
    "in this case, the end index is omitted (exclusive)."
   ]
  },
  {
   "cell_type": "code",
   "execution_count": 10,
   "id": "6a37ff01",
   "metadata": {},
   "outputs": [
    {
     "name": "stdout",
     "output_type": "stream",
     "text": [
      "['For', 'Geeks', 4]\n",
      "['Geeks', 'For', 'Geeks', 4, 5]\n",
      "[4, 5]\n"
     ]
    }
   ],
   "source": [
    "print(b[1:4])\n",
    "print(b[:5])\n",
    "print(b[3:])"
   ]
  },
  {
   "cell_type": "code",
   "execution_count": 12,
   "id": "3cf2313e",
   "metadata": {},
   "outputs": [
    {
     "name": "stdout",
     "output_type": "stream",
     "text": [
      "Yes\n"
     ]
    }
   ],
   "source": [
    "if 'Geeks' in b:\n",
    "    print('Yes')"
   ]
  },
  {
   "cell_type": "markdown",
   "id": "3e649160",
   "metadata": {},
   "source": [
    "**append()** function is used to add the items to the existing list. while **insert()** is used to add at a certain index of the list."
   ]
  },
  {
   "cell_type": "code",
   "execution_count": 13,
   "id": "f5b97ed0",
   "metadata": {},
   "outputs": [
    {
     "name": "stdout",
     "output_type": "stream",
     "text": [
      "['Geeks', 'For', 'Geeks', 4, 5, 'kiwi']\n"
     ]
    }
   ],
   "source": [
    "b.append('kiwi')\n",
    "print(b)"
   ]
  },
  {
   "cell_type": "code",
   "execution_count": 14,
   "id": "7761ebc7",
   "metadata": {},
   "outputs": [
    {
     "name": "stdout",
     "output_type": "stream",
     "text": [
      "['Geeks', 'For', 'You', 'Geeks', 4, 5, 'kiwi']\n"
     ]
    }
   ],
   "source": [
    "b.insert(2,'You')\n",
    "print(b)"
   ]
  },
  {
   "cell_type": "code",
   "execution_count": null,
   "id": "61dac024",
   "metadata": {},
   "outputs": [
    {
     "name": "stdout",
     "output_type": "stream",
     "text": [
      "['Geeks', 'black', 'white', 'Geeks', 4, 5, 'kiwi']\n"
     ]
    }
   ],
   "source": [
    "b[1:3] = ['black','white'] # replace the values at specified indexes in a list\n",
    "print(b)"
   ]
  },
  {
   "cell_type": "markdown",
   "id": "9530d8a1",
   "metadata": {},
   "source": [
    "**Tuple Data Type**\n",
    "\n",
    "Tuple is an ordered collection of Python objects. The only difference between a tuple and a list is that tuples are immutable. Tuples cannot be modified after it is created.\n",
    "\n",
    "**Creating a Tuple in Python**\n",
    "\n",
    "In Python, tuples are created by placing a sequence of values separated by a ‘comma’ with or without the use of parentheses for grouping data sequence. Tuples can contain any number of elements and of any datatype (like strings, integers, lists, etc.).\n",
    "\n",
    "Note: Tuples can also be created with a single element, but it is a bit tricky. Having one element in the parentheses is not sufficient, there must be a trailing ‘comma’ to make it a tuple. "
   ]
  },
  {
   "cell_type": "code",
   "execution_count": 16,
   "id": "8515a5a3",
   "metadata": {},
   "outputs": [
    {
     "name": "stdout",
     "output_type": "stream",
     "text": [
      "('emerald', 'ametheyst', 'peridot')\n",
      "3\n",
      "<class 'tuple'>\n"
     ]
    }
   ],
   "source": [
    "tuple1 = ('emerald', 'ametheyst','peridot')\n",
    "print(tuple1)\n",
    "print(len(tuple1))\n",
    "print(type(tuple1))"
   ]
  },
  {
   "cell_type": "code",
   "execution_count": 17,
   "id": "d30fe4b1",
   "metadata": {},
   "outputs": [
    {
     "name": "stdout",
     "output_type": "stream",
     "text": [
      "<class 'tuple'>\n",
      "('garnet', 'opal', 'ruby', 'topaz')\n"
     ]
    }
   ],
   "source": [
    "tuple2 = tuple(['garnet', 'opal','ruby','topaz'])\n",
    "print(type(tuple2))\n",
    "print(tuple2)"
   ]
  },
  {
   "cell_type": "code",
   "execution_count": 18,
   "id": "77cf7507",
   "metadata": {},
   "outputs": [
    {
     "name": "stdout",
     "output_type": "stream",
     "text": [
      "peridot\n",
      "('emerald', 'ametheyst', 'peridot', 'garnet', 'opal', 'ruby', 'topaz')\n",
      "('emerald', 'ametheyst', 'peridot', 'emerald', 'ametheyst', 'peridot')\n"
     ]
    }
   ],
   "source": [
    "#operations on tuple\n",
    "print(tuple1[-1]) # returns the last element\n",
    "tuple3 = tuple1 + tuple2\n",
    "print(tuple3)\n",
    "tuple4 = tuple1 * 2\n",
    "print(tuple4)"
   ]
  },
  {
   "cell_type": "code",
   "execution_count": null,
   "id": "86a881e9",
   "metadata": {},
   "outputs": [],
   "source": []
  }
 ],
 "metadata": {
  "kernelspec": {
   "display_name": "Python 3",
   "language": "python",
   "name": "python3"
  },
  "language_info": {
   "codemirror_mode": {
    "name": "ipython",
    "version": 3
   },
   "file_extension": ".py",
   "mimetype": "text/x-python",
   "name": "python",
   "nbconvert_exporter": "python",
   "pygments_lexer": "ipython3",
   "version": "3.10.0"
  }
 },
 "nbformat": 4,
 "nbformat_minor": 5
}
